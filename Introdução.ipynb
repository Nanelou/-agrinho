{
  "nbformat": 4,
  "nbformat_minor": 0,
  "metadata": {
    "colab": {
      "provenance": [],
      "authorship_tag": "ABX9TyMAh/o/zhU2hCfhirOat13i",
      "include_colab_link": true
    },
    "kernelspec": {
      "name": "python3",
      "display_name": "Python 3"
    },
    "language_info": {
      "name": "python"
    }
  },
  "cells": [
    {
      "cell_type": "markdown",
      "metadata": {
        "id": "view-in-github",
        "colab_type": "text"
      },
      "source": [
        "<a href=\"https://colab.research.google.com/github/Nanelou/-agrinho/blob/main/Introdu%C3%A7%C3%A3o.ipynb\" target=\"_parent\"><img src=\"https://colab.research.google.com/assets/colab-badge.svg\" alt=\"Open In Colab\"/></a>"
      ]
    },
    {
      "cell_type": "code",
      "execution_count": null,
      "metadata": {
        "id": "gp5kOcakDHx_"
      },
      "outputs": [],
      "source": [
        "<!DOCTYPE html>\n",
        "<html lang=\"pt-br\">\n",
        "<head>\n",
        "    <meta charset=\"UTF-8\">\n",
        "    <meta name=\"viewport\" content=\"width=device-width, initial-scale=1.0\">\n",
        "    <link rel=\"stylesheet\" href=\"assets/style.css\">\n",
        "    <title>Flashcard</title>\n",
        "</head>\n",
        "<body>\n",
        "    <main>\n",
        "        <section id=\"container\">\n",
        "            <!-- <article class=\"cartao\">\n",
        "                <div class=\"cartao__conteudo\">\n",
        "                    <h3>Programação</h3>\n",
        "                    <div class=\"cartao__conteudo__pergunta\">\n",
        "                        <p>O que é JavaScript?</p>\n",
        "                    </div>\n",
        "                    <div class=\"cartao__conteudo__resposta\">\n",
        "                        <p>O JavaScript é uma linguagem de programação</p>\n",
        "                    </div>\n",
        "                </div>\n",
        "            </article> -->\n",
        "        </section>\n",
        "    </main>\n",
        "    <footer>\n",
        "        <p>Projeto desenvolvido pela Alura, sem fins lucrativos</p>\n",
        "    </footer>\n",
        "    <script src=\"app.js\"></script>\n",
        "    <script src=\"perguntas.js\"></script>\n",
        "</body>\n",
        "</html>"
      ]
    }
  ]
}